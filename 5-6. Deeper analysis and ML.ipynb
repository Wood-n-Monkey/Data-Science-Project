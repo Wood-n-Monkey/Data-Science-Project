{
 "cells": [
  {
   "cell_type": "markdown",
   "metadata": {},
   "source": [
    "Deeper data analysis:\n",
    "==============="
   ]
  },
  {
   "cell_type": "code",
   "execution_count": 16,
   "metadata": {},
   "outputs": [],
   "source": [
    "import pandas as pd\n",
    "from matplotlib import pyplot as plt\n",
    "import numpy as np\n",
    "import seaborn as sns\n",
    "from sklearn.linear_model import LogisticRegression\n",
    "from sklearn.model_selection import train_test_split\n",
    "from sklearn.preprocessing import MinMaxScaler\n",
    "from sklearn import metrics"
   ]
  },
  {
   "cell_type": "code",
   "execution_count": 21,
   "metadata": {},
   "outputs": [
    {
     "name": "stdout",
     "output_type": "stream",
     "text": [
      "                 Name  Primary_attribute  Stat_plus  Stat_minus  \\\n",
      "0             Abaddon                  1          0           2   \n",
      "1           Alchemist                  1          2           1   \n",
      "2  Ancient Apparition                  3          1           0   \n",
      "3           Anti-Mage                  2          1           4   \n",
      "4          Arc Warden                  2          3           1   \n",
      "\n",
      "   Abbility_changed  Buffed  Nerfed  Reworked  Other_change  In_TI  \n",
      "0                21      23      16         0             1      1  \n",
      "1                44      44      27         0             0      0  \n",
      "2                26      25       9         0             0      1  \n",
      "3                15       7      24         0             1      1  \n",
      "4                37      33      27         3             1      0  \n"
     ]
    }
   ],
   "source": [
    "df_clr = pd.read_csv(r\"C:\\Users\\Andrey\\Desktop\\HIT_UNI\\KELIM_NETUNIM\\final_project\\clr_TI_df.csv\")\n",
    "\n",
    "print(df_clr.head())"
   ]
  },
  {
   "cell_type": "markdown",
   "metadata": {},
   "source": [
    "Deleting out liers:\n",
    "-------\n",
    "The data set contains all the heroes till this day. Every year around 1/2 new heroes added into the game. Some period new heroes cant be picked in tournament matches. Which mean that thier data can affect the outcome because even if they get changes and updates they cant be played in tournament. The data covers years 2012-2019, and this means the couple last hereos should be removed before machine learning to not affect results.\n",
    "The last added heroes which will be removed are: Hoodwink, Void Spirit, Snapfire."
   ]
  },
  {
   "cell_type": "code",
   "execution_count": 22,
   "metadata": {},
   "outputs": [
    {
     "name": "stdout",
     "output_type": "stream",
     "text": [
      "<class 'pandas.core.frame.DataFrame'>\n",
      "Int64Index: 117 entries, 0 to 119\n",
      "Data columns (total 10 columns):\n",
      " #   Column             Non-Null Count  Dtype \n",
      "---  ------             --------------  ----- \n",
      " 0   Name               117 non-null    object\n",
      " 1   Primary_attribute  117 non-null    int64 \n",
      " 2   Stat_plus          117 non-null    int64 \n",
      " 3   Stat_minus         117 non-null    int64 \n",
      " 4   Abbility_changed   117 non-null    int64 \n",
      " 5   Buffed             117 non-null    int64 \n",
      " 6   Nerfed             117 non-null    int64 \n",
      " 7   Reworked           117 non-null    int64 \n",
      " 8   Other_change       117 non-null    int64 \n",
      " 9   In_TI              117 non-null    int64 \n",
      "dtypes: int64(9), object(1)\n",
      "memory usage: 10.1+ KB\n",
      "None\n"
     ]
    }
   ],
   "source": [
    "rd_df = df_clr.copy()\n",
    "\n",
    "h1 = df_clr[df_clr.Name == \"Hoodwink\"].index\n",
    "h2 = df_clr[df_clr.Name == \"Void Spirit\"].index\n",
    "h3 = df_clr[df_clr.Name == \"Snapfire\"].index\n",
    "\n",
    "rd_df = df_clr.drop(h1)\n",
    "rd_df.drop(h2, inplace=True)\n",
    "rd_df.drop(h3, inplace=True)\n",
    "print(rd_df.info())"
   ]
  },
  {
   "cell_type": "markdown",
   "metadata": {},
   "source": [
    "Heat map and correlation between columns:\n",
    "---"
   ]
  },
  {
   "cell_type": "code",
   "execution_count": 23,
   "metadata": {},
   "outputs": [
    {
     "data": {
      "text/html": [
       "<div>\n",
       "<style scoped>\n",
       "    .dataframe tbody tr th:only-of-type {\n",
       "        vertical-align: middle;\n",
       "    }\n",
       "\n",
       "    .dataframe tbody tr th {\n",
       "        vertical-align: top;\n",
       "    }\n",
       "\n",
       "    .dataframe thead th {\n",
       "        text-align: right;\n",
       "    }\n",
       "</style>\n",
       "<table border=\"1\" class=\"dataframe\">\n",
       "  <thead>\n",
       "    <tr style=\"text-align: right;\">\n",
       "      <th></th>\n",
       "      <th>Name</th>\n",
       "      <th>Primary_attribute</th>\n",
       "      <th>Stat_plus</th>\n",
       "      <th>Stat_minus</th>\n",
       "      <th>Abbility_changed</th>\n",
       "      <th>Buffed</th>\n",
       "      <th>Nerfed</th>\n",
       "      <th>Reworked</th>\n",
       "      <th>Other_change</th>\n",
       "      <th>In_TI</th>\n",
       "    </tr>\n",
       "  </thead>\n",
       "  <tbody>\n",
       "    <tr>\n",
       "      <th>0</th>\n",
       "      <td>Abaddon</td>\n",
       "      <td>1</td>\n",
       "      <td>0</td>\n",
       "      <td>2</td>\n",
       "      <td>21</td>\n",
       "      <td>23</td>\n",
       "      <td>16</td>\n",
       "      <td>0</td>\n",
       "      <td>1</td>\n",
       "      <td>1</td>\n",
       "    </tr>\n",
       "    <tr>\n",
       "      <th>1</th>\n",
       "      <td>Alchemist</td>\n",
       "      <td>1</td>\n",
       "      <td>2</td>\n",
       "      <td>1</td>\n",
       "      <td>44</td>\n",
       "      <td>44</td>\n",
       "      <td>27</td>\n",
       "      <td>0</td>\n",
       "      <td>0</td>\n",
       "      <td>0</td>\n",
       "    </tr>\n",
       "    <tr>\n",
       "      <th>2</th>\n",
       "      <td>Ancient Apparition</td>\n",
       "      <td>3</td>\n",
       "      <td>1</td>\n",
       "      <td>0</td>\n",
       "      <td>26</td>\n",
       "      <td>25</td>\n",
       "      <td>9</td>\n",
       "      <td>0</td>\n",
       "      <td>0</td>\n",
       "      <td>1</td>\n",
       "    </tr>\n",
       "    <tr>\n",
       "      <th>3</th>\n",
       "      <td>Anti-Mage</td>\n",
       "      <td>2</td>\n",
       "      <td>1</td>\n",
       "      <td>4</td>\n",
       "      <td>15</td>\n",
       "      <td>7</td>\n",
       "      <td>24</td>\n",
       "      <td>0</td>\n",
       "      <td>1</td>\n",
       "      <td>1</td>\n",
       "    </tr>\n",
       "    <tr>\n",
       "      <th>4</th>\n",
       "      <td>Arc Warden</td>\n",
       "      <td>2</td>\n",
       "      <td>3</td>\n",
       "      <td>1</td>\n",
       "      <td>37</td>\n",
       "      <td>33</td>\n",
       "      <td>27</td>\n",
       "      <td>3</td>\n",
       "      <td>1</td>\n",
       "      <td>0</td>\n",
       "    </tr>\n",
       "    <tr>\n",
       "      <th>...</th>\n",
       "      <td>...</td>\n",
       "      <td>...</td>\n",
       "      <td>...</td>\n",
       "      <td>...</td>\n",
       "      <td>...</td>\n",
       "      <td>...</td>\n",
       "      <td>...</td>\n",
       "      <td>...</td>\n",
       "      <td>...</td>\n",
       "      <td>...</td>\n",
       "    </tr>\n",
       "    <tr>\n",
       "      <th>115</th>\n",
       "      <td>Windranger</td>\n",
       "      <td>3</td>\n",
       "      <td>1</td>\n",
       "      <td>1</td>\n",
       "      <td>26</td>\n",
       "      <td>34</td>\n",
       "      <td>4</td>\n",
       "      <td>0</td>\n",
       "      <td>1</td>\n",
       "      <td>0</td>\n",
       "    </tr>\n",
       "    <tr>\n",
       "      <th>116</th>\n",
       "      <td>Winter Wyvern</td>\n",
       "      <td>3</td>\n",
       "      <td>1</td>\n",
       "      <td>1</td>\n",
       "      <td>14</td>\n",
       "      <td>16</td>\n",
       "      <td>16</td>\n",
       "      <td>0</td>\n",
       "      <td>0</td>\n",
       "      <td>0</td>\n",
       "    </tr>\n",
       "    <tr>\n",
       "      <th>117</th>\n",
       "      <td>Witch Doctor</td>\n",
       "      <td>3</td>\n",
       "      <td>0</td>\n",
       "      <td>0</td>\n",
       "      <td>5</td>\n",
       "      <td>4</td>\n",
       "      <td>2</td>\n",
       "      <td>0</td>\n",
       "      <td>0</td>\n",
       "      <td>0</td>\n",
       "    </tr>\n",
       "    <tr>\n",
       "      <th>118</th>\n",
       "      <td>Wraith King</td>\n",
       "      <td>1</td>\n",
       "      <td>0</td>\n",
       "      <td>3</td>\n",
       "      <td>12</td>\n",
       "      <td>5</td>\n",
       "      <td>24</td>\n",
       "      <td>0</td>\n",
       "      <td>0</td>\n",
       "      <td>0</td>\n",
       "    </tr>\n",
       "    <tr>\n",
       "      <th>119</th>\n",
       "      <td>Zeus</td>\n",
       "      <td>3</td>\n",
       "      <td>1</td>\n",
       "      <td>0</td>\n",
       "      <td>14</td>\n",
       "      <td>23</td>\n",
       "      <td>4</td>\n",
       "      <td>0</td>\n",
       "      <td>0</td>\n",
       "      <td>1</td>\n",
       "    </tr>\n",
       "  </tbody>\n",
       "</table>\n",
       "<p>117 rows × 10 columns</p>\n",
       "</div>"
      ],
      "text/plain": [
       "                   Name  Primary_attribute  Stat_plus  Stat_minus  \\\n",
       "0               Abaddon                  1          0           2   \n",
       "1             Alchemist                  1          2           1   \n",
       "2    Ancient Apparition                  3          1           0   \n",
       "3             Anti-Mage                  2          1           4   \n",
       "4            Arc Warden                  2          3           1   \n",
       "..                  ...                ...        ...         ...   \n",
       "115          Windranger                  3          1           1   \n",
       "116       Winter Wyvern                  3          1           1   \n",
       "117        Witch Doctor                  3          0           0   \n",
       "118         Wraith King                  1          0           3   \n",
       "119                Zeus                  3          1           0   \n",
       "\n",
       "     Abbility_changed  Buffed  Nerfed  Reworked  Other_change  In_TI  \n",
       "0                  21      23      16         0             1      1  \n",
       "1                  44      44      27         0             0      0  \n",
       "2                  26      25       9         0             0      1  \n",
       "3                  15       7      24         0             1      1  \n",
       "4                  37      33      27         3             1      0  \n",
       "..                ...     ...     ...       ...           ...    ...  \n",
       "115                26      34       4         0             1      0  \n",
       "116                14      16      16         0             0      0  \n",
       "117                 5       4       2         0             0      0  \n",
       "118                12       5      24         0             0      0  \n",
       "119                14      23       4         0             0      1  \n",
       "\n",
       "[117 rows x 10 columns]"
      ]
     },
     "execution_count": 23,
     "metadata": {},
     "output_type": "execute_result"
    }
   ],
   "source": [
    "rd_df"
   ]
  },
  {
   "cell_type": "code",
   "execution_count": 24,
   "metadata": {},
   "outputs": [
    {
     "data": {
      "text/plain": [
       "<matplotlib.axes._subplots.AxesSubplot at 0xef2a220>"
      ]
     },
     "execution_count": 24,
     "metadata": {},
     "output_type": "execute_result"
    },
    {
     "data": {
      "image/png": "[encoded data removed]",
      "text/plain": [
       "<Figure size 432x288 with 2 Axes>"
      ]
     },
     "metadata": {
      "needs_background": "light"
     },
     "output_type": "display_data"
    }
   ],
   "source": [
    "colormap = sns.color_palette(\"Greens\")\n",
    "sns.heatmap(rd_df.corr(), cmap=colormap, annot=True) "
   ]
  },
  {
   "cell_type": "markdown",
   "metadata": {},
   "source": [
    "From the heat map we can observe that their is no strong correlation between the columns. Except dome correlation between heroes ability change and if they are buffed or nerfed, which is logicall because such changes balance the heroes.\n",
    "What interesting is that increase in stats gives fewer buff to a hero than decrease in stats gives nerf to a hero.\n",
    "Although their not drastically big. "
   ]
  },
  {
   "cell_type": "markdown",
   "metadata": {},
   "source": [
    "Machine Learning:\n",
    "========"
   ]
  },
  {
   "cell_type": "markdown",
   "metadata": {},
   "source": [
    "As of algorithm for machine learning for this data set will be used Logistic Regression.\n",
    "Because we need to predict if hero was or not in a tournament, \"yes\" or \"no\", a binary category problem.\n",
    "They will be 2 models where the first one be only using the Logistic Regression on data set without any changes.\n",
    "And a second with MinMaxScaler to see if it would give any better result.\n",
    "\n",
    "The process will be similar to both with only difference is the scaler in the second model. And they are:\n",
    "1.data preperation.\n",
    "2.splitting into test and train.\n",
    "3.applying machine learning algorithm, and scaler.\n",
    "4.evaluate model."
   ]
  },
  {
   "cell_type": "code",
   "execution_count": 30,
   "metadata": {},
   "outputs": [],
   "source": [
    "rd_df.drop(\"Name\", 1, inplace=True) #removing name column\n",
    "\n",
    "X_Features = rd_df.columns[rd_df.columns != \"In_TI\"]\n",
    "y_Features = \"In_TI\"\n",
    "\n",
    "#first\n",
    "X1 = rd_df[X_Features]\n",
    "y1 = rd_df[y_Features]\n",
    "\n",
    "#second\n",
    "X2 = rd_df[X_Features]\n",
    "y2 = rd_df[y_Features]"
   ]
  },
  {
   "cell_type": "code",
   "execution_count": 31,
   "metadata": {},
   "outputs": [],
   "source": [
    "X1_train, X1_test, y1_train, y1_test = train_test_split(X1, y1, test_size=0.2, random_state=42)\n",
    "X2_train, X2_test, y2_train, y2_test = train_test_split(X2, y2, test_size=0.2, random_state=42)"
   ]
  },
  {
   "cell_type": "code",
   "execution_count": 32,
   "metadata": {},
   "outputs": [],
   "source": [
    "#first\n",
    "\n",
    "regular_Reg_model = LogisticRegression().fit(X1_train, y1_train)"
   ]
  },
  {
   "cell_type": "code",
   "execution_count": 33,
   "metadata": {},
   "outputs": [],
   "source": [
    "y1_pred = regular_Reg_model.predict(X1_test) #prediction"
   ]
  },
  {
   "cell_type": "code",
   "execution_count": 34,
   "metadata": {},
   "outputs": [],
   "source": [
    "#second\n",
    "min_max_scaler = MinMaxScaler(feature_range=(-1, 1))\n",
    "\n",
    "X2_train_scaledMM = min_max_scaler.fit_transform(X2_train)\n",
    "\n",
    "X2_test_scaled = min_max_scaler.transform(X2_test)"
   ]
  },
  {
   "cell_type": "code",
   "execution_count": 35,
   "metadata": {},
   "outputs": [],
   "source": [
    "y2_pred = regular_Reg_model.predict(X2_test_scaled) #prediction"
   ]
  },
  {
   "cell_type": "code",
   "execution_count": 36,
   "metadata": {},
   "outputs": [
    {
     "name": "stdout",
     "output_type": "stream",
     "text": [
      "First model Evaluation:\n",
      "accuracy is: 0.6666666666666666\n",
      "precision is: 0.3333333333333333\n",
      "recall is: 0.14285714285714285\n",
      "f1 is: 0.2\n"
     ]
    }
   ],
   "source": [
    "print(\"First model Evaluation:\")\n",
    "print(\"accuracy is:\",metrics.accuracy_score(y1_test, y1_pred))\n",
    "print(\"precision is:\",metrics.precision_score(y1_test, y1_pred))\n",
    "print(\"recall is:\",metrics.recall_score(y1_test, y1_pred))\n",
    "print(\"f1 is:\",metrics.f1_score(y1_test, y1_pred))"
   ]
  },
  {
   "cell_type": "code",
   "execution_count": 37,
   "metadata": {},
   "outputs": [
    {
     "name": "stdout",
     "output_type": "stream",
     "text": [
      "Second model Evaluation:\n",
      "accuracy is: 0.6666666666666666\n",
      "precision is: 0.0\n",
      "recall is: 0.0\n",
      "f1 is: 0.0\n"
     ]
    }
   ],
   "source": [
    "print(\"Second model Evaluation:\")\n",
    "print(\"accuracy is:\",metrics.accuracy_score(y2_test, y2_pred))\n",
    "print(\"precision is:\",metrics.precision_score(y2_test, y2_pred))\n",
    "print(\"recall is:\",metrics.recall_score(y2_test, y2_pred))\n",
    "print(\"f1 is:\",metrics.f1_score(y2_test, y2_pred))"
   ]
  },
  {
   "cell_type": "code",
   "execution_count": null,
   "metadata": {},
   "outputs": [],
   "source": []
  }
 ],
 "metadata": {
  "kernelspec": {
   "display_name": "Python 3",
   "language": "python",
   "name": "python3"
  },
  "language_info": {
   "codemirror_mode": {
    "name": "ipython",
    "version": 3
   },
   "file_extension": ".py",
   "mimetype": "text/x-python",
   "name": "python",
   "nbconvert_exporter": "python",
   "pygments_lexer": "ipython3",
   "version": "3.8.3"
  }
 },
 "nbformat": 4,
 "nbformat_minor": 4
}
